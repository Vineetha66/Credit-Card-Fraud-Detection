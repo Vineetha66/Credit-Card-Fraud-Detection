{
 "cells": [
  {
   "cell_type": "code",
   "execution_count": 1,
   "id": "1168c07b",
   "metadata": {},
   "outputs": [],
   "source": [
    "import numpy as np\n",
    "import pandas as pd\n",
    "import matplotlib.pyplot as plt\n",
    "from collections import Counter\n",
    "import itertools\n",
    "from sklearn.preprocessing import StandardScaler\n",
    "from sklearn.model_selection import train_test_split\n",
    "from sklearn.linear_model import LogisticRegression\n",
    "from sklearn.ensemble import RandomForestClassifier\n",
    "from sklearn.tree import DecisionTreeClassifier\n",
    "from sklearn.metrics import accuracy_score, precision_score, confusion_matrix, recall_score, f1_score\n",
    "from sklearn import preprocessing\n",
    "from sklearn import utils"
   ]
  },
  {
   "cell_type": "code",
   "execution_count": 2,
   "id": "fd0c76b1",
   "metadata": {},
   "outputs": [
    {
     "data": {
      "text/html": [
       "<div>\n",
       "<style scoped>\n",
       "    .dataframe tbody tr th:only-of-type {\n",
       "        vertical-align: middle;\n",
       "    }\n",
       "\n",
       "    .dataframe tbody tr th {\n",
       "        vertical-align: top;\n",
       "    }\n",
       "\n",
       "    .dataframe thead th {\n",
       "        text-align: right;\n",
       "    }\n",
       "</style>\n",
       "<table border=\"1\" class=\"dataframe\">\n",
       "  <thead>\n",
       "    <tr style=\"text-align: right;\">\n",
       "      <th></th>\n",
       "      <th>distance_from_home</th>\n",
       "      <th>distance_from_last_transaction</th>\n",
       "      <th>ratio_to_median_purchase_price</th>\n",
       "      <th>repeat_retailer</th>\n",
       "      <th>used_chip</th>\n",
       "      <th>used_pin_number</th>\n",
       "      <th>online_order</th>\n",
       "      <th>fraud</th>\n",
       "    </tr>\n",
       "  </thead>\n",
       "  <tbody>\n",
       "    <tr>\n",
       "      <th>0</th>\n",
       "      <td>57.877857</td>\n",
       "      <td>0.311140</td>\n",
       "      <td>1.945940</td>\n",
       "      <td>1.0</td>\n",
       "      <td>1.0</td>\n",
       "      <td>0.0</td>\n",
       "      <td>0.0</td>\n",
       "      <td>0.0</td>\n",
       "    </tr>\n",
       "    <tr>\n",
       "      <th>1</th>\n",
       "      <td>10.829943</td>\n",
       "      <td>0.175592</td>\n",
       "      <td>1.294219</td>\n",
       "      <td>1.0</td>\n",
       "      <td>0.0</td>\n",
       "      <td>0.0</td>\n",
       "      <td>0.0</td>\n",
       "      <td>0.0</td>\n",
       "    </tr>\n",
       "    <tr>\n",
       "      <th>2</th>\n",
       "      <td>5.091079</td>\n",
       "      <td>0.805153</td>\n",
       "      <td>0.427715</td>\n",
       "      <td>1.0</td>\n",
       "      <td>0.0</td>\n",
       "      <td>0.0</td>\n",
       "      <td>1.0</td>\n",
       "      <td>0.0</td>\n",
       "    </tr>\n",
       "    <tr>\n",
       "      <th>3</th>\n",
       "      <td>2.247564</td>\n",
       "      <td>5.600044</td>\n",
       "      <td>0.362663</td>\n",
       "      <td>1.0</td>\n",
       "      <td>1.0</td>\n",
       "      <td>0.0</td>\n",
       "      <td>1.0</td>\n",
       "      <td>0.0</td>\n",
       "    </tr>\n",
       "    <tr>\n",
       "      <th>4</th>\n",
       "      <td>44.190936</td>\n",
       "      <td>0.566486</td>\n",
       "      <td>2.222767</td>\n",
       "      <td>1.0</td>\n",
       "      <td>1.0</td>\n",
       "      <td>0.0</td>\n",
       "      <td>1.0</td>\n",
       "      <td>0.0</td>\n",
       "    </tr>\n",
       "  </tbody>\n",
       "</table>\n",
       "</div>"
      ],
      "text/plain": [
       "   distance_from_home  distance_from_last_transaction  \\\n",
       "0           57.877857                        0.311140   \n",
       "1           10.829943                        0.175592   \n",
       "2            5.091079                        0.805153   \n",
       "3            2.247564                        5.600044   \n",
       "4           44.190936                        0.566486   \n",
       "\n",
       "   ratio_to_median_purchase_price  repeat_retailer  used_chip  \\\n",
       "0                        1.945940              1.0        1.0   \n",
       "1                        1.294219              1.0        0.0   \n",
       "2                        0.427715              1.0        0.0   \n",
       "3                        0.362663              1.0        1.0   \n",
       "4                        2.222767              1.0        1.0   \n",
       "\n",
       "   used_pin_number  online_order  fraud  \n",
       "0              0.0           0.0    0.0  \n",
       "1              0.0           0.0    0.0  \n",
       "2              0.0           1.0    0.0  \n",
       "3              0.0           1.0    0.0  \n",
       "4              0.0           1.0    0.0  "
      ]
     },
     "execution_count": 2,
     "metadata": {},
     "output_type": "execute_result"
    }
   ],
   "source": [
    "df = pd.read_csv(r\"E:\\KARE\\Sem 6\\PAD\\Credit Card Fraud Detection\\card_transdata (1).csv\")\n",
    "df.head()"
   ]
  },
  {
   "cell_type": "code",
   "execution_count": 3,
   "id": "4c9fd645",
   "metadata": {},
   "outputs": [
    {
     "name": "stdout",
     "output_type": "stream",
     "text": [
      "<class 'pandas.core.frame.DataFrame'>\n",
      "RangeIndex: 1000000 entries, 0 to 999999\n",
      "Data columns (total 8 columns):\n",
      " #   Column                          Non-Null Count    Dtype  \n",
      "---  ------                          --------------    -----  \n",
      " 0   distance_from_home              1000000 non-null  float64\n",
      " 1   distance_from_last_transaction  1000000 non-null  float64\n",
      " 2   ratio_to_median_purchase_price  1000000 non-null  float64\n",
      " 3   repeat_retailer                 1000000 non-null  float64\n",
      " 4   used_chip                       1000000 non-null  float64\n",
      " 5   used_pin_number                 1000000 non-null  float64\n",
      " 6   online_order                    1000000 non-null  float64\n",
      " 7   fraud                           1000000 non-null  float64\n",
      "dtypes: float64(8)\n",
      "memory usage: 61.0 MB\n"
     ]
    },
    {
     "data": {
      "text/plain": [
       "0.0    912597\n",
       "1.0     87403\n",
       "Name: fraud, dtype: int64"
      ]
     },
     "execution_count": 3,
     "metadata": {},
     "output_type": "execute_result"
    }
   ],
   "source": [
    "df.info()\n",
    "df.isnull().values.any()\n",
    "df[\"fraud\"].describe()\n",
    "df['fraud'].value_counts()"
   ]
  },
  {
   "cell_type": "code",
   "execution_count": 4,
   "id": "778fdae5",
   "metadata": {},
   "outputs": [
    {
     "data": {
      "text/html": [
       "<div>\n",
       "<style scoped>\n",
       "    .dataframe tbody tr th:only-of-type {\n",
       "        vertical-align: middle;\n",
       "    }\n",
       "\n",
       "    .dataframe tbody tr th {\n",
       "        vertical-align: top;\n",
       "    }\n",
       "\n",
       "    .dataframe thead th {\n",
       "        text-align: right;\n",
       "    }\n",
       "</style>\n",
       "<table border=\"1\" class=\"dataframe\">\n",
       "  <thead>\n",
       "    <tr style=\"text-align: right;\">\n",
       "      <th></th>\n",
       "      <th>null</th>\n",
       "    </tr>\n",
       "  </thead>\n",
       "  <tbody>\n",
       "    <tr>\n",
       "      <th>distance_from_home</th>\n",
       "      <td>0.0</td>\n",
       "    </tr>\n",
       "    <tr>\n",
       "      <th>distance_from_last_transaction</th>\n",
       "      <td>0.0</td>\n",
       "    </tr>\n",
       "    <tr>\n",
       "      <th>ratio_to_median_purchase_price</th>\n",
       "      <td>0.0</td>\n",
       "    </tr>\n",
       "    <tr>\n",
       "      <th>repeat_retailer</th>\n",
       "      <td>0.0</td>\n",
       "    </tr>\n",
       "    <tr>\n",
       "      <th>used_chip</th>\n",
       "      <td>0.0</td>\n",
       "    </tr>\n",
       "    <tr>\n",
       "      <th>used_pin_number</th>\n",
       "      <td>0.0</td>\n",
       "    </tr>\n",
       "    <tr>\n",
       "      <th>online_order</th>\n",
       "      <td>0.0</td>\n",
       "    </tr>\n",
       "    <tr>\n",
       "      <th>fraud</th>\n",
       "      <td>0.0</td>\n",
       "    </tr>\n",
       "  </tbody>\n",
       "</table>\n",
       "</div>"
      ],
      "text/plain": [
       "                                null\n",
       "distance_from_home               0.0\n",
       "distance_from_last_transaction   0.0\n",
       "ratio_to_median_purchase_price   0.0\n",
       "repeat_retailer                  0.0\n",
       "used_chip                        0.0\n",
       "used_pin_number                  0.0\n",
       "online_order                     0.0\n",
       "fraud                            0.0"
      ]
     },
     "execution_count": 4,
     "metadata": {},
     "output_type": "execute_result"
    }
   ],
   "source": [
    "df_missing_columns = (round(((df.isnull().sum()/len(df.index))*100),2).to_frame('null')).sort_values('null', ascending=False)\n",
    "df_missing_columns"
   ]
  },
  {
   "cell_type": "code",
   "execution_count": 6,
   "id": "57389ff6",
   "metadata": {},
   "outputs": [
    {
     "name": "stdout",
     "output_type": "stream",
     "text": [
      "(912597, 8)\n",
      "(87403, 8)\n"
     ]
    }
   ],
   "source": [
    "genuine = df[df.fraud == 0]\n",
    "fraud = df[df.fraud == 1]\n",
    "print(genuine.shape)\n",
    "print(fraud.shape)"
   ]
  },
  {
   "cell_type": "code",
   "execution_count": 7,
   "id": "2cea072d",
   "metadata": {},
   "outputs": [
    {
     "data": {
      "text/plain": [
       "0.0    87403\n",
       "1.0    87403\n",
       "Name: fraud, dtype: int64"
      ]
     },
     "execution_count": 7,
     "metadata": {},
     "output_type": "execute_result"
    }
   ],
   "source": [
    "genuine_sample = genuine.sample(n=87403)\n",
    "new_df = pd.concat([genuine_sample, fraud], axis=0)\n",
    "new_df['fraud'].value_counts()"
   ]
  },
  {
   "cell_type": "code",
   "execution_count": 8,
   "id": "69fdcf6f",
   "metadata": {},
   "outputs": [
    {
     "name": "stdout",
     "output_type": "stream",
     "text": [
      "Number of Genuine transactions:  87403\n",
      "Number of Fraud transactions:  87403\n",
      "Percentage of Fraud transactions: 50.0000\n"
     ]
    },
    {
     "data": {
      "image/png": "[encoded data removed]",
      "text/plain": [
       "<Figure size 640x480 with 1 Axes>"
      ]
     },
     "metadata": {},
     "output_type": "display_data"
    }
   ],
   "source": [
    "genuine_sample = len(new_df[new_df.fraud == 0])\n",
    "fraud = len(new_df[new_df.fraud == 1])\n",
    "fraud_percent = (fraud / (fraud + genuine_sample)) * 100\n",
    "print(\"Number of Genuine transactions: \", genuine_sample)\n",
    "print(\"Number of Fraud transactions: \", fraud)\n",
    "print(\"Percentage of Fraud transactions: {:.4f}\".format(fraud_percent))\n",
    "labels = [\"Genuine\", \"Fraud\"]\n",
    "count_classes = new_df.value_counts(new_df['fraud'], sort= True)\n",
    "count_classes.plot(kind = \"bar\", rot = 0)\n",
    "plt.title(\"Visualization of Labels\")\n",
    "plt.ylabel(\"Count\")\n",
    "plt.xticks(range(2), labels)\n",
    "plt.show()"
   ]
  },
  {
   "cell_type": "code",
   "execution_count": 9,
   "id": "30ccfb0f",
   "metadata": {},
   "outputs": [],
   "source": [
    "X = new_df.drop([\"fraud\"], axis= 1)\n",
    "Y = new_df[\"fraud\"]"
   ]
  },
  {
   "cell_type": "code",
   "execution_count": 10,
   "id": "d7eb95e0",
   "metadata": {},
   "outputs": [
    {
     "data": {
      "text/plain": [
       "674236    0.0\n",
       "976293    0.0\n",
       "960405    0.0\n",
       "392571    0.0\n",
       "979396    0.0\n",
       "Name: fraud, dtype: float64"
      ]
     },
     "execution_count": 10,
     "metadata": {},
     "output_type": "execute_result"
    }
   ],
   "source": [
    "X.head()\n",
    "Y.head()"
   ]
  },
  {
   "cell_type": "code",
   "execution_count": 11,
   "id": "b16a9520",
   "metadata": {},
   "outputs": [
    {
     "name": "stdout",
     "output_type": "stream",
     "text": [
      "Shape of train_X:  (122364, 7)\n",
      "Shape of test_X:  (52442, 7)\n"
     ]
    }
   ],
   "source": [
    "(train_X, test_X, train_Y, test_Y) = train_test_split(X, Y, test_size= 0.3, random_state= 42)\n",
    "print(\"Shape of train_X: \", train_X.shape)\n",
    "print(\"Shape of test_X: \", test_X.shape)"
   ]
  },
  {
   "cell_type": "code",
   "execution_count": 12,
   "id": "d273e9d6",
   "metadata": {},
   "outputs": [
    {
     "data": {
      "text/html": [
       "<div>\n",
       "<style scoped>\n",
       "    .dataframe tbody tr th:only-of-type {\n",
       "        vertical-align: middle;\n",
       "    }\n",
       "\n",
       "    .dataframe tbody tr th {\n",
       "        vertical-align: top;\n",
       "    }\n",
       "\n",
       "    .dataframe thead th {\n",
       "        text-align: right;\n",
       "    }\n",
       "</style>\n",
       "<table border=\"1\" class=\"dataframe\">\n",
       "  <thead>\n",
       "    <tr style=\"text-align: right;\">\n",
       "      <th></th>\n",
       "      <th>null</th>\n",
       "    </tr>\n",
       "  </thead>\n",
       "  <tbody>\n",
       "    <tr>\n",
       "      <th>distance_from_home</th>\n",
       "      <td>0.0</td>\n",
       "    </tr>\n",
       "    <tr>\n",
       "      <th>distance_from_last_transaction</th>\n",
       "      <td>0.0</td>\n",
       "    </tr>\n",
       "    <tr>\n",
       "      <th>ratio_to_median_purchase_price</th>\n",
       "      <td>0.0</td>\n",
       "    </tr>\n",
       "    <tr>\n",
       "      <th>repeat_retailer</th>\n",
       "      <td>0.0</td>\n",
       "    </tr>\n",
       "    <tr>\n",
       "      <th>used_chip</th>\n",
       "      <td>0.0</td>\n",
       "    </tr>\n",
       "    <tr>\n",
       "      <th>used_pin_number</th>\n",
       "      <td>0.0</td>\n",
       "    </tr>\n",
       "    <tr>\n",
       "      <th>online_order</th>\n",
       "      <td>0.0</td>\n",
       "    </tr>\n",
       "    <tr>\n",
       "      <th>fraud</th>\n",
       "      <td>0.0</td>\n",
       "    </tr>\n",
       "  </tbody>\n",
       "</table>\n",
       "</div>"
      ],
      "text/plain": [
       "                                null\n",
       "distance_from_home               0.0\n",
       "distance_from_last_transaction   0.0\n",
       "ratio_to_median_purchase_price   0.0\n",
       "repeat_retailer                  0.0\n",
       "used_chip                        0.0\n",
       "used_pin_number                  0.0\n",
       "online_order                     0.0\n",
       "fraud                            0.0"
      ]
     },
     "execution_count": 12,
     "metadata": {},
     "output_type": "execute_result"
    }
   ],
   "source": [
    "df_missing_columns = (round(((new_df.isnull().sum()/len(new_df.index))*100),2).to_frame('null')).sort_values('null', ascending=False)\n",
    "df_missing_columns"
   ]
  },
  {
   "cell_type": "code",
   "execution_count": 13,
   "id": "84e982aa",
   "metadata": {},
   "outputs": [],
   "source": [
    "def fitness_func(individual, X_train):\n",
    "    # Get the indices of the selected features\n",
    "    feature_indices = [i for i, x in enumerate(individual) if x == 1]\n",
    "    # Select the features from the training set\n",
    "    X_train_selected = train_X\n",
    "    # Compute the sum of the selected feature columns\n",
    "    return X_train_selected.sum().sum()"
   ]
  },
  {
   "cell_type": "code",
   "execution_count": 14,
   "id": "46efe0b4",
   "metadata": {},
   "outputs": [],
   "source": [
    "POP_SIZE = 50\n",
    "GENE_LENGTH = new_df.shape[1] - 1\n",
    "CROSS_RATE = 0.8\n",
    "MUTATION_RATE = 0.1\n",
    "N_GENERATIONS = 100\n",
    "population = np.random.randint(2, size=(POP_SIZE, GENE_LENGTH))"
   ]
  },
  {
   "cell_type": "code",
   "execution_count": 15,
   "id": "da78558f",
   "metadata": {},
   "outputs": [],
   "source": [
    "for generation in range(N_GENERATIONS):\n",
    "    # Compute the fitness of each individual\n",
    "    fitness_values = np.array([fitness_func(individual, train_X) for individual in population])\n",
    "    # Select the fittest individuals for mating\n",
    "    selected_indices = np.random.choice(range(POP_SIZE), size=POP_SIZE, replace=True, p=fitness_values/fitness_values.sum())\n",
    "    selected_population = population[selected_indices]\n",
    "    # Apply crossover to produce offspring\n",
    "    offspring_population = selected_population.copy()\n",
    "    for i in range(0, POP_SIZE-1, 2):\n",
    "        if np.random.rand() < CROSS_RATE:\n",
    "            cross_point = np.random.randint(0, GENE_LENGTH)\n",
    "            offspring_population[i, cross_point:] = selected_population[i+1, cross_point:]\n",
    "            offspring_population[i+1, cross_point:] = selected_population[i, cross_point:]\n",
    "    # Apply mutation to the offspring\n",
    "    for i in range(POP_SIZE):\n",
    "        if np.random.rand() < MUTATION_RATE:\n",
    "            mutate_point = np.random.randint(0, GENE_LENGTH)\n",
    "            offspring_population[i, mutate_point] = 1 - offspring_population[i, mutate_point]\n",
    "    # Replace the old population with the offspring population\n",
    "    population = offspring_population"
   ]
  },
  {
   "cell_type": "code",
   "execution_count": 16,
   "id": "0598da9a",
   "metadata": {},
   "outputs": [
    {
     "name": "stdout",
     "output_type": "stream",
     "text": [
      "Selected features: [0, 4, 6]\n",
      "Feature column sums: distance_from_home    5.441593e+06\n",
      "used_chip             3.760500e+04\n",
      "online_order          9.609900e+04\n",
      "dtype: float64\n"
     ]
    }
   ],
   "source": [
    "fitness_values = np.array([fitness_func(individual, train_X) for individual in population])\n",
    "fittest_index = np.argmax(fitness_values)\n",
    "fittest_individual = population[fittest_index]\n",
    "# Print the selected features and their column sums\n",
    "selected_features = [i for i, x in enumerate(fittest_individual) if x == 1]\n",
    "X_train_selected = train_X.iloc[:, selected_features]\n",
    "print('Selected features:', selected_features)\n",
    "print('Feature column sums:', X_train_selected.sum())"
   ]
  },
  {
   "cell_type": "code",
   "execution_count": 17,
   "id": "caeca360",
   "metadata": {},
   "outputs": [],
   "source": [
    "train_X.fillna(train_X.mean(), inplace=True)\n",
    "train_Y.fillna(train_Y.mean(), inplace=True)"
   ]
  },
  {
   "cell_type": "code",
   "execution_count": 18,
   "id": "c6f2ee1b",
   "metadata": {},
   "outputs": [],
   "source": [
    "lab = preprocessing.LabelEncoder()\n",
    "train_Y_new = lab.fit_transform(train_Y)"
   ]
  },
  {
   "cell_type": "code",
   "execution_count": 19,
   "id": "541c18c8",
   "metadata": {},
   "outputs": [
    {
     "name": "stderr",
     "output_type": "stream",
     "text": [
      "C:\\Users\\admin\\anaconda3\\Lib\\site-packages\\sklearn\\linear_model\\_logistic.py:460: ConvergenceWarning: lbfgs failed to converge (status=1):\n",
      "STOP: TOTAL NO. of ITERATIONS REACHED LIMIT.\n",
      "\n",
      "Increase the number of iterations (max_iter) or scale the data as shown in:\n",
      "    https://scikit-learn.org/stable/modules/preprocessing.html\n",
      "Please also refer to the documentation for alternative solver options:\n",
      "    https://scikit-learn.org/stable/modules/linear_model.html#logistic-regression\n",
      "  n_iter_i = _check_optimize_result(\n"
     ]
    }
   ],
   "source": [
    "logmodel = LogisticRegression()\n",
    "logmodel.fit(train_X, train_Y)\n",
    "logmodel_predict = logmodel.predict(test_X)\n",
    "logmodel_score = logmodel.score(test_X, test_Y)"
   ]
  },
  {
   "cell_type": "code",
   "execution_count": 20,
   "id": "8b5f9a93",
   "metadata": {},
   "outputs": [],
   "source": [
    "decision_tree = DecisionTreeClassifier()\n",
    "decision_tree.fit(train_X, train_Y_new)\n",
    "predictions_dt = decision_tree.predict(test_X)\n",
    "decision_tree_score = decision_tree.score(test_X, test_Y) * 100"
   ]
  },
  {
   "cell_type": "code",
   "execution_count": 21,
   "id": "3ade86ec",
   "metadata": {},
   "outputs": [],
   "source": [
    "random_forest = RandomForestClassifier(n_estimators= 100)\n",
    "random_forest.fit(train_X, train_Y_new)\n",
    "predictions_rf = random_forest.predict(test_X)\n",
    "random_forest_score = random_forest.score(test_X, test_Y) * 100"
   ]
  },
  {
   "cell_type": "code",
   "execution_count": 22,
   "id": "138b8a87",
   "metadata": {},
   "outputs": [
    {
     "name": "stdout",
     "output_type": "stream",
     "text": [
      "Logistic Regression Score:  0.9416688913466306\n",
      "Random Forest Score:  99.99046565729759\n",
      "Decision Tree Score:  99.98665192021662\n"
     ]
    }
   ],
   "source": [
    "print(\"Logistic Regression Score: \", logmodel_score)\n",
    "print(\"Random Forest Score: \", random_forest_score)\n",
    "print(\"Decision Tree Score: \", decision_tree_score)"
   ]
  },
  {
   "cell_type": "code",
   "execution_count": 23,
   "id": "87b5e191",
   "metadata": {},
   "outputs": [],
   "source": [
    "def metrics(actuals, predictions):\n",
    "    print(\"Accuracy: {:.5f}\".format(accuracy_score(actuals, predictions)))\n",
    "    print(\"Precision: {:.5f}\".format(precision_score(actuals, predictions,average='weighted')))\n",
    "    print(\"Recall: {:.5f}\".format(recall_score(actuals, predictions,average='weighted')))\n",
    "    print(\"F1-score: {:.5f}\".format(f1_score(actuals, predictions,average='weighted')))\n",
    "def plot_confusion_matrix(cm, classes, normalize=False, title='Confusion Matrix', cmap=plt.cm.Blues):\n",
    "    if normalize:\n",
    "        cm = cm.astype('float') / cm.sum(axis=1)[:, np.newaxis]\n",
    "        print(\"Normalized confusion matrix\")\n",
    "    else:\n",
    "        print('Confusion matrix, without normalization')\n",
    "    plt.imshow(cm, interpolation='nearest', cmap=cmap)\n",
    "    plt.title(title)\n",
    "    plt.colorbar()\n",
    "    tick_marks = np.arange(len(classes))\n",
    "    plt.xticks(tick_marks, classes, rotation=0)\n",
    "    plt.yticks(tick_marks, classes)\n",
    "    fmt = '.2f' if normalize else 'd'\n",
    "    thresh = cm.max() / 2.\n",
    "    for i, j in itertools.product(range(cm.shape[0]), range(cm.shape[1])):\n",
    "        plt.text(j, i, format(cm[i, j], fmt), horizontalalignment=\"center\", color=\"white\" if cm[i, j] > thresh else \"black\")\n",
    "    plt.ylabel('True label')\n",
    "    plt.xlabel('Predicted label')\n",
    "    plt.tight_layout()"
   ]
  },
  {
   "cell_type": "code",
   "execution_count": 24,
   "id": "d121029e",
   "metadata": {},
   "outputs": [
    {
     "name": "stdout",
     "output_type": "stream",
     "text": [
      "Confusion Matrix - Decision Tree\n",
      "[[26224     7]\n",
      " [    0 26211]]\n",
      "Confusion matrix, without normalization\n"
     ]
    },
    {
     "data": {
      "image/png": "[encoded data removed]",
      "text/plain": [
       "<Figure size 640x480 with 2 Axes>"
      ]
     },
     "metadata": {},
     "output_type": "display_data"
    }
   ],
   "source": [
    "confusion_matrix_dt = confusion_matrix(test_Y, predictions_dt.round())\n",
    "print(\"Confusion Matrix - Decision Tree\")\n",
    "print(confusion_matrix_dt)\n",
    "plot_confusion_matrix(confusion_matrix_dt, classes=[0, 1], title= \"Confusion Matrix - Decision Tree\")"
   ]
  },
  {
   "cell_type": "code",
   "execution_count": 25,
   "id": "f4e69aca",
   "metadata": {},
   "outputs": [
    {
     "name": "stdout",
     "output_type": "stream",
     "text": [
      "Confusion Matrix - Random Forest\n",
      "[[26226     5]\n",
      " [    0 26211]]\n",
      "Confusion matrix, without normalization\n"
     ]
    },
    {
     "data": {
      "image/png": "[encoded data removed]",
      "text/plain": [
       "<Figure size 640x480 with 2 Axes>"
      ]
     },
     "metadata": {},
     "output_type": "display_data"
    }
   ],
   "source": [
    "confusion_matrix_rf = confusion_matrix(test_Y, predictions_rf.round())\n",
    "print(\"Confusion Matrix - Random Forest\")\n",
    "print(confusion_matrix_rf)\n",
    "plot_confusion_matrix(confusion_matrix_rf, classes=[0, 1], title= \"Confusion Matrix - Random Forest\")"
   ]
  },
  {
   "cell_type": "code",
   "execution_count": 26,
   "id": "f2a8b2fd",
   "metadata": {},
   "outputs": [],
   "source": [
    "lab = preprocessing.LabelEncoder()\n",
    "test_Y_new = lab.fit_transform(test_Y)"
   ]
  },
  {
   "cell_type": "code",
   "execution_count": 27,
   "id": "8e8dfbf4",
   "metadata": {},
   "outputs": [
    {
     "name": "stdout",
     "output_type": "stream",
     "text": [
      "Evaluation of Logistic Regression Model\n",
      "\n",
      "Accuracy: 0.94167\n",
      "Precision: 0.94179\n",
      "Recall: 0.94167\n",
      "F1-score: 0.94166\n",
      "\n",
      "Evaluation of Decision Tree Model\n",
      "\n",
      "Accuracy: 0.99987\n",
      "Precision: 0.99987\n",
      "Recall: 0.99987\n",
      "F1-score: 0.99987\n",
      "\n",
      "Evaluation of Random Forest Model\n",
      "\n",
      "Accuracy: 0.99990\n",
      "Precision: 0.99990\n",
      "Recall: 0.99990\n",
      "F1-score: 0.99990\n"
     ]
    }
   ],
   "source": [
    "#Evaluation  of Logistic Regression Model\n",
    "print(\"Evaluation of Logistic Regression Model\")\n",
    "print()\n",
    "metrics(test_Y_new, logmodel_predict)\n",
    "print()\n",
    "#Evaluation  of Decision tree Model\n",
    "print(\"Evaluation of Decision Tree Model\")\n",
    "print()\n",
    "metrics(test_Y_new, predictions_dt.round())\n",
    "print()\n",
    "#Evaluation of Random forest Model\n",
    "print(\"Evaluation of Random Forest Model\")\n",
    "print()\n",
    "metrics(test_Y_new, predictions_rf.round())"
   ]
  },
  {
   "cell_type": "code",
   "execution_count": 28,
   "id": "b9c01096",
   "metadata": {},
   "outputs": [
    {
     "name": "stdout",
     "output_type": "stream",
     "text": [
      "Detection:  [1]\n",
      "It's a Fraud Transaction\n"
     ]
    },
    {
     "name": "stderr",
     "output_type": "stream",
     "text": [
      "C:\\Users\\admin\\anaconda3\\Lib\\site-packages\\sklearn\\base.py:464: UserWarning: X does not have valid feature names, but RandomForestClassifier was fitted with feature names\n",
      "  warnings.warn(\n"
     ]
    }
   ],
   "source": [
    "Y_new_pred = random_forest.predict([[57.89,100.567,1233.34,1,0,1,1]])\n",
    "print(\"Detection: \",Y_new_pred)\n",
    "if Y_new_pred == 0:\n",
    "  print(\"It's a Genuine Transaction\")\n",
    "else:\n",
    "  print(\"It's a Fraud Transaction\")"
   ]
  },
  {
   "cell_type": "code",
   "execution_count": 29,
   "id": "f3eae725",
   "metadata": {},
   "outputs": [],
   "source": [
    "import pickle\n",
    "with open('E:\\KARE\\Sem 6\\PAD\\Credit Card Fraud Detection\\Model\\RF_Model.pkl', 'wb') as model_file:\n",
    "    pickle.dump(random_forest, model_file)\n"
   ]
  }
 ],
 "metadata": {
  "kernelspec": {
   "display_name": "Python 3 (ipykernel)",
   "language": "python",
   "name": "python3"
  },
  "language_info": {
   "codemirror_mode": {
    "name": "ipython",
    "version": 3
   },
   "file_extension": ".py",
   "mimetype": "text/x-python",
   "name": "python",
   "nbconvert_exporter": "python",
   "pygments_lexer": "ipython3",
   "version": "3.12.4"
  }
 },
 "nbformat": 4,
 "nbformat_minor": 5
}
